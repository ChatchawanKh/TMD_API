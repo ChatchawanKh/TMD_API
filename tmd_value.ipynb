{
 "cells": [
  {
   "cell_type": "markdown",
   "metadata": {},
   "source": [
    "## Download Data from API"
   ]
  },
  {
   "cell_type": "code",
   "execution_count": null,
   "metadata": {},
   "outputs": [],
   "source": [
    "import requests\n",
    "from bs4 import BeautifulSoup\n",
    "import os\n",
    "\n",
    "url = \"http://www.rnd.tmd.go.th/hi_monitor/Jan2565-Mar2567/\"\n",
    "save_dir = r\"D:\\Gistda\\P_GONE\\TMD_API\\XLSX\"\n",
    "\n",
    "# Get the HTML of the page\n",
    "response = requests.get(url)\n",
    "soup = BeautifulSoup(response.text, 'html.parser')\n",
    "\n",
    "download_count = 0\n",
    "\n",
    "for link in soup.find_all('a', href=True):\n",
    "    file_name = link['href']\n",
    "    if file_name.endswith('.xlsx'):\n",
    "        file_url = url + file_name\n",
    "        file_path = os.path.join(save_dir, file_name)\n",
    "        \n",
    "        # Download the file\n",
    "        file_response = requests.get(file_url)\n",
    "        if file_response.status_code == 200:\n",
    "            with open(file_path, 'wb') as file:\n",
    "                file.write(file_response.content)\n",
    "            download_count += 1\n",
    "            # print(f\"Downloaded: {file_name}\")\n",
    "\n",
    "print(f\"Total files downloaded: {download_count}\")\n"
   ]
  },
  {
   "cell_type": "code",
   "execution_count": 13,
   "metadata": {},
   "outputs": [
    {
     "name": "stdout",
     "output_type": "stream",
     "text": [
      "Headers: ['Date', 'HI_2565_100', 'HI_2565_400', 'HI_2565_700', 'HI_2565_1000', 'HI_2565_1300', 'HI_2565_1600', 'HI_2565_1900', 'HI_2565_2200', 'HI_2566_100', 'HI_2566_400', 'HI_2566_700', 'HI_2566_1000', 'HI_2566_1300', 'HI_2566_1600', 'HI_2566_1900', 'HI_2566_2200', 'HI_2567_100', 'HI_2567_400', 'HI_2567_700', 'HI_2567_1000', 'HI_2567_1300', 'HI_2567_1600', 'HI_2567_1900', 'HI_2567_2200']\n"
     ]
    }
   ],
   "source": [
    "import pandas as pd\n",
    "\n",
    "file_path = r\"D:\\Gistda\\P_GONE\\TMD_API\\XLSX\\48300_MAEHONGSON.xlsx\"\n",
    "data = pd.read_excel(file_path)\n",
    "# print(data)\n",
    "print(\"Headers:\", data.columns.tolist())\n",
    "# print(data.head(10))"
   ]
  },
  {
   "cell_type": "code",
   "execution_count": null,
   "metadata": {},
   "outputs": [
    {
     "name": "stdout",
     "output_type": "stream",
     "text": [
      "Processing completed.\n"
     ]
    }
   ],
   "source": [
    "import pandas as pd\n",
    "import os\n",
    "\n",
    "# ฟังก์ชันสำหรับอ่านไฟล์และแยกข้อมูลตามปี\n",
    "def process_files(input_directory, output_directory):\n",
    "    # สร้าง DataFrame เปล่าสำหรับเก็บข้อมูลแต่ละปี\n",
    "    df_2565 = pd.DataFrame()\n",
    "    df_2566 = pd.DataFrame()\n",
    "    df_2567 = pd.DataFrame()\n",
    "\n",
    "    # อ่านไฟล์ทั้งหมดใน input_directory\n",
    "    for filename in os.listdir(input_directory):\n",
    "        if filename.endswith('.xlsx'):\n",
    "            file_path = os.path.join(input_directory, filename)\n",
    "            df = pd.read_excel(file_path)\n",
    "\n",
    "            # ตัดส่วนของชื่อคอลัมน์ที่ไม่จำเป็น เช่น \"HI_2565_100\" → \"100\"\n",
    "            new_columns = []\n",
    "            for col in df.columns:\n",
    "                # ตัด \"HI_\" และ \"2565\", \"2566\", \"2567\" ออก แล้วเก็บแค่ตัวเลขสุดท้ายหลัง \"_\"\n",
    "                parts = col.split('_')\n",
    "                if len(parts) > 2:\n",
    "                    new_columns.append(parts[-1])  # เก็บแค่ตัวเลขหลังสุด\n",
    "                else:\n",
    "                    new_columns.append(col)  # ถ้าไม่ใช่ในรูปแบบที่ต้องการ ให้เก็บไว้ตามเดิม\n",
    "\n",
    "            df.columns = new_columns  # อัปเดตชื่อคอลัมน์\n",
    "\n",
    "            # แยกข้อมูลออกตามปี 2565, 2566, 2567\n",
    "            df_2565_temp = df[['Date', '100', '400', '700', '1000', '1300', '1600', '1900', '2200']]\n",
    "            df_2566_temp = df[['Date', '100', '400', '700', '1000', '1300', '1600', '1900', '2200']]\n",
    "            df_2567_temp = df[['Date', '100', '400', '700', '1000', '1300', '1600', '1900', '2200']]\n",
    "\n",
    "            # รวมข้อมูลทั้งหมดใน DataFrame ของแต่ละปี\n",
    "            df_2565 = pd.concat([df_2565, df_2565_temp])\n",
    "            df_2566 = pd.concat([df_2566, df_2566_temp])\n",
    "            df_2567 = pd.concat([df_2567, df_2567_temp])\n",
    "\n",
    "    # สร้างเส้นทางไฟล์ใหม่สำหรับบันทึก\n",
    "    output_file = os.path.join(output_directory, 'combined_data.xlsx')\n",
    "\n",
    "    # บันทึกข้อมูลในแต่ละปีเป็นไฟล์ Excel\n",
    "    with pd.ExcelWriter(output_file) as writer:\n",
    "        df_2565.to_excel(writer, sheet_name='2565', index=False)\n",
    "        df_2566.to_excel(writer, sheet_name='2566', index=False)\n",
    "        df_2567.to_excel(writer, sheet_name='2567', index=False)\n",
    "\n",
    "# เรียกใช้ฟังก์ชัน\n",
    "input_directory = r'D:\\Gistda\\P_GONE\\TMD_API\\XLSX'  # เส้นทางที่เก็บไฟล์ Excel\n",
    "output_directory = r'D:\\Gistda\\P_GONE\\TMD_API\\test'  # เส้นทางที่ต้องการเก็บไฟล์ผลลัพธ์\n",
    "process_files(input_directory, output_directory)\n"
   ]
  },
  {
   "cell_type": "markdown",
   "metadata": {},
   "source": [
    "## Split 2565 2566 2567 and cal Min Max and Mean"
   ]
  },
  {
   "cell_type": "code",
   "execution_count": null,
   "metadata": {},
   "outputs": [],
   "source": [
    "import os\n",
    "import pandas as pd\n",
    "\n",
    "# input_path = r'D:\\Gistda\\P_GONE\\TMD_API\\test'\n",
    "input_path = r'D:\\Gistda\\P_GONE\\TMD_API\\XLSX'\n",
    "output_path_2565 = r'D:\\Gistda\\P_GONE\\TMD_API\\2565'\n",
    "output_path_2566 = r'D:\\Gistda\\P_GONE\\TMD_API\\2566'\n",
    "output_path_2567 = r'D:\\Gistda\\P_GONE\\TMD_API\\2567'\n",
    "\n",
    "# ตรวจสอบว่าโฟลเดอร์ output มีอยู่หรือไม่ ถ้าไม่มีให้สร้างขึ้นมา\n",
    "os.makedirs(output_path_2565, exist_ok=True)\n",
    "os.makedirs(output_path_2566, exist_ok=True)\n",
    "os.makedirs(output_path_2567, exist_ok=True)\n",
    "\n",
    "# อ่านไฟล์ทั้งหมดใน directory\n",
    "files = os.listdir(input_path)\n",
    "\n",
    "# ฟังก์ชันสำหรับแยกคอลัมน์ตามปีและคำนวณค่า min, max, mean\n",
    "def split_year_columns_and_calculate(df):\n",
    "    # print(\"Columns in the file:\", df.columns)\n",
    "    \n",
    "    # แยกคอลัมน์ตามปี\n",
    "    df_2565 = df[['Date'] + [col for col in df.columns if '2565' in col]]\n",
    "    df_2566 = df[['Date'] + [col for col in df.columns if '2566' in col]]\n",
    "    df_2567 = df[['Date'] + [col for col in df.columns if '2567' in col]]\n",
    "    \n",
    "    # คำนวณค่า min, max, mean ในแต่ละแถว\n",
    "    for year_df in [df_2565, df_2566, df_2567]:\n",
    "        year_df['Min'] = year_df.drop(columns=['Date']).min(axis=1)  # หาค่า min ในแต่ละแถว\n",
    "        year_df['Max'] = year_df.drop(columns=['Date']).max(axis=1)  # หาค่า max ในแต่ละแถว\n",
    "        year_df['Mean'] = year_df.drop(columns=['Date']).mean(axis=1)  # หาค่า mean ในแต่ละแถว\n",
    "    \n",
    "    return df_2565, df_2566, df_2567\n",
    "\n",
    "# อ่านและแยกไฟล์ Excel\n",
    "for file in files:\n",
    "    if file.endswith('.xlsx'):\n",
    "        file_path = os.path.join(input_path, file)\n",
    "        \n",
    "        # อ่านไฟล์ Excel\n",
    "        df = pd.read_excel(file_path)\n",
    "        \n",
    "        # แสดงชื่อคอลัมน์\n",
    "        # print(f\"Reading file: {file}\")\n",
    "        # print(\"Columns:\", df.columns)\n",
    "        \n",
    "        # แยกข้อมูลตามปีและคำนวณค่า min, max, mean\n",
    "        df_2565, df_2566, df_2567 = split_year_columns_and_calculate(df)\n",
    "        \n",
    "        # สร้างชื่อไฟล์ใหม่โดยแยกตามปี\n",
    "        base_filename = os.path.splitext(file)[0]  # ใช้ชื่อไฟล์เดิมโดยไม่มีนามสกุล\n",
    "        new_filename_2565 = f\"STAT_{base_filename}_2565.xlsx\"\n",
    "        new_filename_2566 = f\"STAT_{base_filename}_2566.xlsx\"\n",
    "        new_filename_2567 = f\"STAT_{base_filename}_2567.xlsx\"\n",
    "        \n",
    "        # บันทึกไฟล์ลงในแต่ละโฟลเดอร์\n",
    "        df_2565.to_excel(os.path.join(output_path_2565, new_filename_2565), index=False)\n",
    "        df_2566.to_excel(os.path.join(output_path_2566, new_filename_2566), index=False)\n",
    "        df_2567.to_excel(os.path.join(output_path_2567, new_filename_2567), index=False)\n",
    "        \n",
    "        print(f\"Processed: XLSX Stat\")\n",
    "\n",
    "print(\"Processing Completed.\")\n"
   ]
  }
 ],
 "metadata": {
  "kernelspec": {
   "display_name": "base",
   "language": "python",
   "name": "python3"
  },
  "language_info": {
   "codemirror_mode": {
    "name": "ipython",
    "version": 3
   },
   "file_extension": ".py",
   "mimetype": "text/x-python",
   "name": "python",
   "nbconvert_exporter": "python",
   "pygments_lexer": "ipython3",
   "version": "3.10.9"
  }
 },
 "nbformat": 4,
 "nbformat_minor": 2
}
